{
 "cells": [
  {
   "cell_type": "code",
   "execution_count": 35,
   "metadata": {},
   "outputs": [],
   "source": [
    "import pandas as pd"
   ]
  },
  {
   "cell_type": "code",
   "execution_count": 36,
   "metadata": {},
   "outputs": [
    {
     "data": {
      "text/html": [
       "<div>\n",
       "<style scoped>\n",
       "    .dataframe tbody tr th:only-of-type {\n",
       "        vertical-align: middle;\n",
       "    }\n",
       "\n",
       "    .dataframe tbody tr th {\n",
       "        vertical-align: top;\n",
       "    }\n",
       "\n",
       "    .dataframe thead th {\n",
       "        text-align: right;\n",
       "    }\n",
       "</style>\n",
       "<table border=\"1\" class=\"dataframe\">\n",
       "  <thead>\n",
       "    <tr style=\"text-align: right;\">\n",
       "      <th></th>\n",
       "      <th>推</th>\n",
       "      <th>噓</th>\n",
       "      <th>分數</th>\n",
       "      <th>作者</th>\n",
       "      <th>標題</th>\n",
       "      <th>時間</th>\n",
       "    </tr>\n",
       "  </thead>\n",
       "  <tbody>\n",
       "    <tr>\n",
       "      <th>0</th>\n",
       "      <td>推: 990</td>\n",
       "      <td>噓: 66</td>\n",
       "      <td>分數: 924</td>\n",
       "      <td>作者: ubcs (覺★青年超冒險蓋)</td>\n",
       "      <td>標題: [公告] 中秋連假線上烤肉兼置底聯誼閒聊區</td>\n",
       "      <td>時間: Wed Sep 30 23:45:49 2020</td>\n",
       "    </tr>\n",
       "    <tr>\n",
       "      <th>1</th>\n",
       "      <td>推: 0</td>\n",
       "      <td>噓: 0</td>\n",
       "      <td>分數: 0</td>\n",
       "      <td>作者: seabox (盒盒)</td>\n",
       "      <td>標題: [公告] 八卦板板規(2020.07.21)</td>\n",
       "      <td>時間: Tue Jul 21 00:00:04 2020</td>\n",
       "    </tr>\n",
       "    <tr>\n",
       "      <th>2</th>\n",
       "      <td>推: 20</td>\n",
       "      <td>噓: 7</td>\n",
       "      <td>分數: 13</td>\n",
       "      <td>作者: ubcs (覺★青年超冒險蓋)</td>\n",
       "      <td>標題: [公告] 多篇無關推噓文 水桶</td>\n",
       "      <td>時間: Wed Oct  7 17:49:04 2020</td>\n",
       "    </tr>\n",
       "    <tr>\n",
       "      <th>3</th>\n",
       "      <td>推: 19</td>\n",
       "      <td>噓: 5</td>\n",
       "      <td>分數: 14</td>\n",
       "      <td>作者: seabox (盒盒)</td>\n",
       "      <td>標題: [公告] 數條板規修改草案於gossippicket討論</td>\n",
       "      <td>時間: Sun Oct  4 21:16:27 2020</td>\n",
       "    </tr>\n",
       "    <tr>\n",
       "      <th>4</th>\n",
       "      <td>推: 3</td>\n",
       "      <td>噓: 11</td>\n",
       "      <td>分數: -8</td>\n",
       "      <td>作者: ubcs (覺★青年超冒險蓋)</td>\n",
       "      <td>標題: [公告]十月份置底閒聊區</td>\n",
       "      <td>時間: Wed Oct  7 16:57:26 2020</td>\n",
       "    </tr>\n",
       "  </tbody>\n",
       "</table>\n",
       "</div>"
      ],
      "text/plain": [
       "        推      噓       分數                   作者  \\\n",
       "0  推: 990  噓: 66  分數: 924  作者: ubcs (覺★青年超冒險蓋)   \n",
       "1    推: 0   噓: 0    分數: 0      作者: seabox (盒盒)   \n",
       "2   推: 20   噓: 7   分數: 13  作者: ubcs (覺★青年超冒險蓋)   \n",
       "3   推: 19   噓: 5   分數: 14      作者: seabox (盒盒)   \n",
       "4    推: 3  噓: 11   分數: -8  作者: ubcs (覺★青年超冒險蓋)   \n",
       "\n",
       "                                 標題                            時間  \n",
       "0         標題: [公告] 中秋連假線上烤肉兼置底聯誼閒聊區  時間: Wed Sep 30 23:45:49 2020  \n",
       "1        標題: [公告] 八卦板板規(2020.07.21)  時間: Tue Jul 21 00:00:04 2020  \n",
       "2               標題: [公告] 多篇無關推噓文 水桶  時間: Wed Oct  7 17:49:04 2020  \n",
       "3  標題: [公告] 數條板規修改草案於gossippicket討論  時間: Sun Oct  4 21:16:27 2020  \n",
       "4            標題: [公告]十月份置底閒聊區        時間: Wed Oct  7 16:57:26 2020  "
      ]
     },
     "execution_count": 36,
     "metadata": {},
     "output_type": "execute_result"
    }
   ],
   "source": [
    "file_path = r'/workspaces/demo-devcontainer-main/src/pandas_practice/ptt.csv'\n",
    "\n",
    "df = pd.read_csv(file_path)\n",
    "\n",
    "df.head()"
   ]
  },
  {
   "cell_type": "code",
   "execution_count": 37,
   "metadata": {},
   "outputs": [],
   "source": [
    "'''\n",
    "推: 25 -> 25\n",
    "'''\n",
    "\n",
    "def tmp_apply(input_str) -> int:\n",
    "    return int(input_str.split(': ')[1])\n",
    "\n",
    "def tmp_apply(input_str) -> int:\n",
    "    return int(input_str.replace('推: ', ' ').strip())"
   ]
  },
  {
   "cell_type": "code",
   "execution_count": 38,
   "metadata": {},
   "outputs": [
    {
     "data": {
      "text/plain": [
       "0      推: 990\n",
       "1        推: 0\n",
       "2       推: 20\n",
       "3       推: 19\n",
       "4        推: 3\n",
       "        ...  \n",
       "701     推: 61\n",
       "702      推: 7\n",
       "703      推: 9\n",
       "704     推: 62\n",
       "705     推: 33\n",
       "Name: 推, Length: 706, dtype: object"
      ]
     },
     "execution_count": 38,
     "metadata": {},
     "output_type": "execute_result"
    }
   ],
   "source": [
    "df['推']"
   ]
  },
  {
   "cell_type": "code",
   "execution_count": 39,
   "metadata": {},
   "outputs": [
    {
     "data": {
      "text/plain": [
       "0      990\n",
       "1        0\n",
       "2       20\n",
       "3       19\n",
       "4        3\n",
       "      ... \n",
       "701     61\n",
       "702      7\n",
       "703      9\n",
       "704     62\n",
       "705     33\n",
       "Name: 推, Length: 706, dtype: int64"
      ]
     },
     "execution_count": 39,
     "metadata": {},
     "output_type": "execute_result"
    }
   ],
   "source": [
    "df['推'].apply(tmp_apply)"
   ]
  },
  {
   "cell_type": "code",
   "execution_count": 40,
   "metadata": {},
   "outputs": [],
   "source": [
    "df['推'] = df['推'].apply(tmp_apply)"
   ]
  },
  {
   "cell_type": "code",
   "execution_count": 41,
   "metadata": {},
   "outputs": [
    {
     "data": {
      "text/plain": [
       "0      990\n",
       "1        0\n",
       "2       20\n",
       "3       19\n",
       "4        3\n",
       "      ... \n",
       "701     61\n",
       "702      7\n",
       "703      9\n",
       "704     62\n",
       "705     33\n",
       "Name: 推, Length: 706, dtype: int64"
      ]
     },
     "execution_count": 41,
     "metadata": {},
     "output_type": "execute_result"
    }
   ],
   "source": [
    "df['推']"
   ]
  },
  {
   "cell_type": "code",
   "execution_count": 42,
   "metadata": {},
   "outputs": [
    {
     "data": {
      "text/html": [
       "<div>\n",
       "<style scoped>\n",
       "    .dataframe tbody tr th:only-of-type {\n",
       "        vertical-align: middle;\n",
       "    }\n",
       "\n",
       "    .dataframe tbody tr th {\n",
       "        vertical-align: top;\n",
       "    }\n",
       "\n",
       "    .dataframe thead th {\n",
       "        text-align: right;\n",
       "    }\n",
       "</style>\n",
       "<table border=\"1\" class=\"dataframe\">\n",
       "  <thead>\n",
       "    <tr style=\"text-align: right;\">\n",
       "      <th></th>\n",
       "      <th>推</th>\n",
       "      <th>噓</th>\n",
       "      <th>分數</th>\n",
       "      <th>作者</th>\n",
       "      <th>標題</th>\n",
       "      <th>時間</th>\n",
       "    </tr>\n",
       "  </thead>\n",
       "  <tbody>\n",
       "    <tr>\n",
       "      <th>0</th>\n",
       "      <td>990</td>\n",
       "      <td>66</td>\n",
       "      <td>分數: 924</td>\n",
       "      <td>作者: ubcs (覺★青年超冒險蓋)</td>\n",
       "      <td>標題: [公告] 中秋連假線上烤肉兼置底聯誼閒聊區</td>\n",
       "      <td>時間: Wed Sep 30 23:45:49 2020</td>\n",
       "    </tr>\n",
       "    <tr>\n",
       "      <th>1</th>\n",
       "      <td>0</td>\n",
       "      <td>0</td>\n",
       "      <td>分數: 0</td>\n",
       "      <td>作者: seabox (盒盒)</td>\n",
       "      <td>標題: [公告] 八卦板板規(2020.07.21)</td>\n",
       "      <td>時間: Tue Jul 21 00:00:04 2020</td>\n",
       "    </tr>\n",
       "    <tr>\n",
       "      <th>2</th>\n",
       "      <td>20</td>\n",
       "      <td>7</td>\n",
       "      <td>分數: 13</td>\n",
       "      <td>作者: ubcs (覺★青年超冒險蓋)</td>\n",
       "      <td>標題: [公告] 多篇無關推噓文 水桶</td>\n",
       "      <td>時間: Wed Oct  7 17:49:04 2020</td>\n",
       "    </tr>\n",
       "    <tr>\n",
       "      <th>3</th>\n",
       "      <td>19</td>\n",
       "      <td>5</td>\n",
       "      <td>分數: 14</td>\n",
       "      <td>作者: seabox (盒盒)</td>\n",
       "      <td>標題: [公告] 數條板規修改草案於gossippicket討論</td>\n",
       "      <td>時間: Sun Oct  4 21:16:27 2020</td>\n",
       "    </tr>\n",
       "    <tr>\n",
       "      <th>4</th>\n",
       "      <td>3</td>\n",
       "      <td>11</td>\n",
       "      <td>分數: -8</td>\n",
       "      <td>作者: ubcs (覺★青年超冒險蓋)</td>\n",
       "      <td>標題: [公告]十月份置底閒聊區</td>\n",
       "      <td>時間: Wed Oct  7 16:57:26 2020</td>\n",
       "    </tr>\n",
       "  </tbody>\n",
       "</table>\n",
       "</div>"
      ],
      "text/plain": [
       "     推   噓       分數                   作者                                標題  \\\n",
       "0  990  66  分數: 924  作者: ubcs (覺★青年超冒險蓋)         標題: [公告] 中秋連假線上烤肉兼置底聯誼閒聊區   \n",
       "1    0   0    分數: 0      作者: seabox (盒盒)        標題: [公告] 八卦板板規(2020.07.21)   \n",
       "2   20   7   分數: 13  作者: ubcs (覺★青年超冒險蓋)               標題: [公告] 多篇無關推噓文 水桶   \n",
       "3   19   5   分數: 14      作者: seabox (盒盒)  標題: [公告] 數條板規修改草案於gossippicket討論   \n",
       "4    3  11   分數: -8  作者: ubcs (覺★青年超冒險蓋)            標題: [公告]十月份置底閒聊區         \n",
       "\n",
       "                             時間  \n",
       "0  時間: Wed Sep 30 23:45:49 2020  \n",
       "1  時間: Tue Jul 21 00:00:04 2020  \n",
       "2  時間: Wed Oct  7 17:49:04 2020  \n",
       "3  時間: Sun Oct  4 21:16:27 2020  \n",
       "4  時間: Wed Oct  7 16:57:26 2020  "
      ]
     },
     "execution_count": 42,
     "metadata": {},
     "output_type": "execute_result"
    }
   ],
   "source": [
    "df['噓'] = df['噓'].apply(\n",
    "    lambda input_str: int(input_str.replace('噓: ', '').strip())\n",
    "    )\n",
    "\n",
    "df.head()"
   ]
  },
  {
   "cell_type": "code",
   "execution_count": 44,
   "metadata": {},
   "outputs": [
    {
     "data": {
      "text/html": [
       "<div>\n",
       "<style scoped>\n",
       "    .dataframe tbody tr th:only-of-type {\n",
       "        vertical-align: middle;\n",
       "    }\n",
       "\n",
       "    .dataframe tbody tr th {\n",
       "        vertical-align: top;\n",
       "    }\n",
       "\n",
       "    .dataframe thead th {\n",
       "        text-align: right;\n",
       "    }\n",
       "</style>\n",
       "<table border=\"1\" class=\"dataframe\">\n",
       "  <thead>\n",
       "    <tr style=\"text-align: right;\">\n",
       "      <th></th>\n",
       "      <th>推</th>\n",
       "      <th>噓</th>\n",
       "      <th>分數</th>\n",
       "      <th>作者</th>\n",
       "      <th>標題</th>\n",
       "      <th>時間</th>\n",
       "    </tr>\n",
       "  </thead>\n",
       "  <tbody>\n",
       "    <tr>\n",
       "      <th>0</th>\n",
       "      <td>990</td>\n",
       "      <td>66</td>\n",
       "      <td>924</td>\n",
       "      <td>作者: ubcs (覺★青年超冒險蓋)</td>\n",
       "      <td>標題: [公告] 中秋連假線上烤肉兼置底聯誼閒聊區</td>\n",
       "      <td>時間: Wed Sep 30 23:45:49 2020</td>\n",
       "    </tr>\n",
       "    <tr>\n",
       "      <th>1</th>\n",
       "      <td>0</td>\n",
       "      <td>0</td>\n",
       "      <td>0</td>\n",
       "      <td>作者: seabox (盒盒)</td>\n",
       "      <td>標題: [公告] 八卦板板規(2020.07.21)</td>\n",
       "      <td>時間: Tue Jul 21 00:00:04 2020</td>\n",
       "    </tr>\n",
       "    <tr>\n",
       "      <th>2</th>\n",
       "      <td>20</td>\n",
       "      <td>7</td>\n",
       "      <td>13</td>\n",
       "      <td>作者: ubcs (覺★青年超冒險蓋)</td>\n",
       "      <td>標題: [公告] 多篇無關推噓文 水桶</td>\n",
       "      <td>時間: Wed Oct  7 17:49:04 2020</td>\n",
       "    </tr>\n",
       "    <tr>\n",
       "      <th>3</th>\n",
       "      <td>19</td>\n",
       "      <td>5</td>\n",
       "      <td>14</td>\n",
       "      <td>作者: seabox (盒盒)</td>\n",
       "      <td>標題: [公告] 數條板規修改草案於gossippicket討論</td>\n",
       "      <td>時間: Sun Oct  4 21:16:27 2020</td>\n",
       "    </tr>\n",
       "    <tr>\n",
       "      <th>4</th>\n",
       "      <td>3</td>\n",
       "      <td>11</td>\n",
       "      <td>-8</td>\n",
       "      <td>作者: ubcs (覺★青年超冒險蓋)</td>\n",
       "      <td>標題: [公告]十月份置底閒聊區</td>\n",
       "      <td>時間: Wed Oct  7 16:57:26 2020</td>\n",
       "    </tr>\n",
       "  </tbody>\n",
       "</table>\n",
       "</div>"
      ],
      "text/plain": [
       "     推   噓   分數                   作者                                標題  \\\n",
       "0  990  66  924  作者: ubcs (覺★青年超冒險蓋)         標題: [公告] 中秋連假線上烤肉兼置底聯誼閒聊區   \n",
       "1    0   0    0      作者: seabox (盒盒)        標題: [公告] 八卦板板規(2020.07.21)   \n",
       "2   20   7   13  作者: ubcs (覺★青年超冒險蓋)               標題: [公告] 多篇無關推噓文 水桶   \n",
       "3   19   5   14      作者: seabox (盒盒)  標題: [公告] 數條板規修改草案於gossippicket討論   \n",
       "4    3  11   -8  作者: ubcs (覺★青年超冒險蓋)            標題: [公告]十月份置底閒聊區         \n",
       "\n",
       "                             時間  \n",
       "0  時間: Wed Sep 30 23:45:49 2020  \n",
       "1  時間: Tue Jul 21 00:00:04 2020  \n",
       "2  時間: Wed Oct  7 17:49:04 2020  \n",
       "3  時間: Sun Oct  4 21:16:27 2020  \n",
       "4  時間: Wed Oct  7 16:57:26 2020  "
      ]
     },
     "execution_count": 44,
     "metadata": {},
     "output_type": "execute_result"
    }
   ],
   "source": [
    "df['分數'] = df['分數'].apply(\n",
    "    lambda input_str: int(input_str.replace('分數: ', '').strip())\n",
    "    )\n",
    "\n",
    "df.head()"
   ]
  },
  {
   "cell_type": "code",
   "execution_count": 45,
   "metadata": {},
   "outputs": [
    {
     "data": {
      "text/html": [
       "<div>\n",
       "<style scoped>\n",
       "    .dataframe tbody tr th:only-of-type {\n",
       "        vertical-align: middle;\n",
       "    }\n",
       "\n",
       "    .dataframe tbody tr th {\n",
       "        vertical-align: top;\n",
       "    }\n",
       "\n",
       "    .dataframe thead th {\n",
       "        text-align: right;\n",
       "    }\n",
       "</style>\n",
       "<table border=\"1\" class=\"dataframe\">\n",
       "  <thead>\n",
       "    <tr style=\"text-align: right;\">\n",
       "      <th></th>\n",
       "      <th>推</th>\n",
       "      <th>噓</th>\n",
       "      <th>分數</th>\n",
       "      <th>作者</th>\n",
       "      <th>標題</th>\n",
       "      <th>時間</th>\n",
       "    </tr>\n",
       "  </thead>\n",
       "  <tbody>\n",
       "    <tr>\n",
       "      <th>0</th>\n",
       "      <td>990</td>\n",
       "      <td>66</td>\n",
       "      <td>924</td>\n",
       "      <td>作者: ubcs (覺★青年超冒險蓋)</td>\n",
       "      <td>標題: [公告] 中秋連假線上烤肉兼置底聯誼閒聊區</td>\n",
       "      <td>Wed Sep 30 23:45:49 2020</td>\n",
       "    </tr>\n",
       "    <tr>\n",
       "      <th>1</th>\n",
       "      <td>0</td>\n",
       "      <td>0</td>\n",
       "      <td>0</td>\n",
       "      <td>作者: seabox (盒盒)</td>\n",
       "      <td>標題: [公告] 八卦板板規(2020.07.21)</td>\n",
       "      <td>Tue Jul 21 00:00:04 2020</td>\n",
       "    </tr>\n",
       "    <tr>\n",
       "      <th>2</th>\n",
       "      <td>20</td>\n",
       "      <td>7</td>\n",
       "      <td>13</td>\n",
       "      <td>作者: ubcs (覺★青年超冒險蓋)</td>\n",
       "      <td>標題: [公告] 多篇無關推噓文 水桶</td>\n",
       "      <td>Wed Oct  7 17:49:04 2020</td>\n",
       "    </tr>\n",
       "    <tr>\n",
       "      <th>3</th>\n",
       "      <td>19</td>\n",
       "      <td>5</td>\n",
       "      <td>14</td>\n",
       "      <td>作者: seabox (盒盒)</td>\n",
       "      <td>標題: [公告] 數條板規修改草案於gossippicket討論</td>\n",
       "      <td>Sun Oct  4 21:16:27 2020</td>\n",
       "    </tr>\n",
       "    <tr>\n",
       "      <th>4</th>\n",
       "      <td>3</td>\n",
       "      <td>11</td>\n",
       "      <td>-8</td>\n",
       "      <td>作者: ubcs (覺★青年超冒險蓋)</td>\n",
       "      <td>標題: [公告]十月份置底閒聊區</td>\n",
       "      <td>Wed Oct  7 16:57:26 2020</td>\n",
       "    </tr>\n",
       "  </tbody>\n",
       "</table>\n",
       "</div>"
      ],
      "text/plain": [
       "     推   噓   分數                   作者                                標題  \\\n",
       "0  990  66  924  作者: ubcs (覺★青年超冒險蓋)         標題: [公告] 中秋連假線上烤肉兼置底聯誼閒聊區   \n",
       "1    0   0    0      作者: seabox (盒盒)        標題: [公告] 八卦板板規(2020.07.21)   \n",
       "2   20   7   13  作者: ubcs (覺★青年超冒險蓋)               標題: [公告] 多篇無關推噓文 水桶   \n",
       "3   19   5   14      作者: seabox (盒盒)  標題: [公告] 數條板規修改草案於gossippicket討論   \n",
       "4    3  11   -8  作者: ubcs (覺★青年超冒險蓋)            標題: [公告]十月份置底閒聊區         \n",
       "\n",
       "                         時間  \n",
       "0  Wed Sep 30 23:45:49 2020  \n",
       "1  Tue Jul 21 00:00:04 2020  \n",
       "2  Wed Oct  7 17:49:04 2020  \n",
       "3  Sun Oct  4 21:16:27 2020  \n",
       "4  Wed Oct  7 16:57:26 2020  "
      ]
     },
     "execution_count": 45,
     "metadata": {},
     "output_type": "execute_result"
    }
   ],
   "source": [
    "df['時間'] = df['時間'].apply(\n",
    "    lambda input_str: input_str.replace('時間: ', '').strip()\n",
    "    )\n",
    "\n",
    "df.head()"
   ]
  },
  {
   "cell_type": "code",
   "execution_count": null,
   "metadata": {},
   "outputs": [],
   "source": [
    "import datetime\n",
    "import time\n",
    "import pendulum"
   ]
  },
  {
   "cell_type": "code",
   "execution_count": 46,
   "metadata": {},
   "outputs": [
    {
     "data": {
      "text/plain": [
       "Timestamp('2024-07-27 13:32:21')"
      ]
     },
     "execution_count": 46,
     "metadata": {},
     "output_type": "execute_result"
    }
   ],
   "source": [
    "pd.to_datetime('2024-07-27 13:32:21')"
   ]
  },
  {
   "cell_type": "code",
   "execution_count": 47,
   "metadata": {},
   "outputs": [
    {
     "data": {
      "text/plain": [
       "datetime.date(2024, 7, 27)"
      ]
     },
     "execution_count": 47,
     "metadata": {},
     "output_type": "execute_result"
    }
   ],
   "source": [
    "pd.to_datetime('2024-07-27 13:32:21').date()"
   ]
  },
  {
   "cell_type": "code",
   "execution_count": null,
   "metadata": {},
   "outputs": [],
   "source": [
    "from datetime import datetime\n",
    "from datetime import date\n",
    "\n",
    "# pandas 本身有 import datetime, 所以可以使用"
   ]
  },
  {
   "cell_type": "code",
   "execution_count": 49,
   "metadata": {},
   "outputs": [
    {
     "data": {
      "text/plain": [
       "True"
      ]
     },
     "execution_count": 49,
     "metadata": {},
     "output_type": "execute_result"
    }
   ],
   "source": [
    "# 可以比大小\n",
    "\n",
    "pd.to_datetime('2024-07-27 13:32:21').date() > pd.to_datetime('2024-07-26 13:32:21').date()"
   ]
  },
  {
   "cell_type": "code",
   "execution_count": 51,
   "metadata": {},
   "outputs": [
    {
     "data": {
      "text/plain": [
       "0     2020-09-30 23:45:49\n",
       "1     2020-07-21 00:00:04\n",
       "2     2020-10-07 17:49:04\n",
       "3     2020-10-04 21:16:27\n",
       "4     2020-10-07 16:57:26\n",
       "              ...        \n",
       "701   2020-10-02 14:10:22\n",
       "702   2020-10-02 14:50:45\n",
       "703   2020-10-07 16:57:38\n",
       "704   2020-10-07 17:40:29\n",
       "705   2020-10-07 19:19:13\n",
       "Name: 時間, Length: 706, dtype: datetime64[ns]"
      ]
     },
     "execution_count": 51,
     "metadata": {},
     "output_type": "execute_result"
    }
   ],
   "source": [
    "pd.to_datetime(df['時間'])"
   ]
  },
  {
   "cell_type": "code",
   "execution_count": 52,
   "metadata": {},
   "outputs": [
    {
     "data": {
      "text/plain": [
       "Timestamp('2024-07-24 00:00:00')"
      ]
     },
     "execution_count": 52,
     "metadata": {},
     "output_type": "execute_result"
    }
   ],
   "source": [
    "datetime_str = '2024///07///24'\n",
    "\n",
    "pd.to_datetime(datetime_str)"
   ]
  },
  {
   "cell_type": "code",
   "execution_count": 54,
   "metadata": {},
   "outputs": [
    {
     "data": {
      "text/plain": [
       "datetime.datetime(2024, 7, 24, 0, 0)"
      ]
     },
     "execution_count": 54,
     "metadata": {},
     "output_type": "execute_result"
    }
   ],
   "source": [
    "from datetime import datetime\n",
    "datetime_str = '2024//k/07///24'\n",
    "\n",
    "datetime.strptime(datetime_str, '%Y//k/%m///%d')"
   ]
  },
  {
   "cell_type": "code",
   "execution_count": 60,
   "metadata": {},
   "outputs": [
    {
     "name": "stdout",
     "output_type": "stream",
     "text": [
      "This is Apple\n",
      "This is Apple\n",
      "This is Apple\n"
     ]
    }
   ],
   "source": [
    "# 字串變數的使用方法\n",
    "\n",
    "# %s 的 s 是指字串\n",
    "print(\n",
    "    \"This is %s\"%(\"Apple\")\n",
    "      )\n",
    "\n",
    "print(\n",
    "    \"This is {}\".format(\"Apple\")\n",
    "    )\n",
    "\n",
    "A = \"Apple\"\n",
    "\n",
    "print(\n",
    "    f\"This is {A}\"\n",
    "    )"
   ]
  },
  {
   "cell_type": "code",
   "execution_count": 61,
   "metadata": {},
   "outputs": [
    {
     "data": {
      "text/html": [
       "<div>\n",
       "<style scoped>\n",
       "    .dataframe tbody tr th:only-of-type {\n",
       "        vertical-align: middle;\n",
       "    }\n",
       "\n",
       "    .dataframe tbody tr th {\n",
       "        vertical-align: top;\n",
       "    }\n",
       "\n",
       "    .dataframe thead th {\n",
       "        text-align: right;\n",
       "    }\n",
       "</style>\n",
       "<table border=\"1\" class=\"dataframe\">\n",
       "  <thead>\n",
       "    <tr style=\"text-align: right;\">\n",
       "      <th></th>\n",
       "      <th>推</th>\n",
       "      <th>噓</th>\n",
       "      <th>分數</th>\n",
       "      <th>作者</th>\n",
       "      <th>標題</th>\n",
       "      <th>時間</th>\n",
       "    </tr>\n",
       "  </thead>\n",
       "  <tbody>\n",
       "    <tr>\n",
       "      <th>2</th>\n",
       "      <td>20</td>\n",
       "      <td>7</td>\n",
       "      <td>13</td>\n",
       "      <td>作者: ubcs (覺★青年超冒險蓋)</td>\n",
       "      <td>標題: [公告] 多篇無關推噓文 水桶</td>\n",
       "      <td>Wed Oct  7 17:49:04 2020</td>\n",
       "    </tr>\n",
       "    <tr>\n",
       "      <th>3</th>\n",
       "      <td>19</td>\n",
       "      <td>5</td>\n",
       "      <td>14</td>\n",
       "      <td>作者: seabox (盒盒)</td>\n",
       "      <td>標題: [公告] 數條板規修改草案於gossippicket討論</td>\n",
       "      <td>Sun Oct  4 21:16:27 2020</td>\n",
       "    </tr>\n",
       "    <tr>\n",
       "      <th>4</th>\n",
       "      <td>3</td>\n",
       "      <td>11</td>\n",
       "      <td>-8</td>\n",
       "      <td>作者: ubcs (覺★青年超冒險蓋)</td>\n",
       "      <td>標題: [公告]十月份置底閒聊區</td>\n",
       "      <td>Wed Oct  7 16:57:26 2020</td>\n",
       "    </tr>\n",
       "    <tr>\n",
       "      <th>5</th>\n",
       "      <td>11</td>\n",
       "      <td>0</td>\n",
       "      <td>11</td>\n",
       "      <td>作者: polomax (阿do)</td>\n",
       "      <td>標題: [協尋] 台北市內湖區樂群二路265巷路口 行車紀錄</td>\n",
       "      <td>Sun Oct  4 18:42:55 2020</td>\n",
       "    </tr>\n",
       "    <tr>\n",
       "      <th>6</th>\n",
       "      <td>168</td>\n",
       "      <td>1</td>\n",
       "      <td>167</td>\n",
       "      <td>作者: zxc8899546 (183帥哥)</td>\n",
       "      <td>標題: [協尋] 桃園交通事故，請大家幫幫忙</td>\n",
       "      <td>Mon Oct  5 18:38:57 2020</td>\n",
       "    </tr>\n",
       "    <tr>\n",
       "      <th>...</th>\n",
       "      <td>...</td>\n",
       "      <td>...</td>\n",
       "      <td>...</td>\n",
       "      <td>...</td>\n",
       "      <td>...</td>\n",
       "      <td>...</td>\n",
       "    </tr>\n",
       "    <tr>\n",
       "      <th>701</th>\n",
       "      <td>61</td>\n",
       "      <td>26</td>\n",
       "      <td>35</td>\n",
       "      <td>作者: yank0612 (魯宅)</td>\n",
       "      <td>標題: [爆卦] 支那垃圾賤畜集體高潮</td>\n",
       "      <td>Fri Oct  2 14:10:22 2020</td>\n",
       "    </tr>\n",
       "    <tr>\n",
       "      <th>702</th>\n",
       "      <td>7</td>\n",
       "      <td>2</td>\n",
       "      <td>5</td>\n",
       "      <td>作者: shoga (歡迎 來自星星的Elohim)</td>\n",
       "      <td>標題: [爆卦] 日本藝人結婚對東京股市的衝擊</td>\n",
       "      <td>Fri Oct  2 14:50:45 2020</td>\n",
       "    </tr>\n",
       "    <tr>\n",
       "      <th>703</th>\n",
       "      <td>9</td>\n",
       "      <td>11</td>\n",
       "      <td>-2</td>\n",
       "      <td>作者: googolplex (googolplex)</td>\n",
       "      <td>標題: [爆卦] 最新美國6大搖擺州民調 川普選情持續穩定</td>\n",
       "      <td>Wed Oct  7 16:57:38 2020</td>\n",
       "    </tr>\n",
       "    <tr>\n",
       "      <th>704</th>\n",
       "      <td>62</td>\n",
       "      <td>74</td>\n",
       "      <td>-12</td>\n",
       "      <td>作者: googolplex (googolplex)</td>\n",
       "      <td>標題: [爆卦] 最新防疫成功國家排名 中國第一 台灣榜外</td>\n",
       "      <td>Wed Oct  7 17:40:29 2020</td>\n",
       "    </tr>\n",
       "    <tr>\n",
       "      <th>705</th>\n",
       "      <td>33</td>\n",
       "      <td>4</td>\n",
       "      <td>29</td>\n",
       "      <td>作者: nobel777 ()</td>\n",
       "      <td>標題: [爆卦] 王柏融棒打日本澤村賞名投</td>\n",
       "      <td>Wed Oct  7 19:19:13 2020</td>\n",
       "    </tr>\n",
       "  </tbody>\n",
       "</table>\n",
       "<p>702 rows × 6 columns</p>\n",
       "</div>"
      ],
      "text/plain": [
       "       推   噓   分數                           作者  \\\n",
       "2     20   7   13          作者: ubcs (覺★青年超冒險蓋)   \n",
       "3     19   5   14              作者: seabox (盒盒)   \n",
       "4      3  11   -8          作者: ubcs (覺★青年超冒險蓋)   \n",
       "5     11   0   11            作者: polomax (阿do)   \n",
       "6    168   1  167       作者: zxc8899546 (183帥哥)   \n",
       "..   ...  ..  ...                          ...   \n",
       "701   61  26   35            作者: yank0612 (魯宅)   \n",
       "702    7   2    5   作者: shoga (歡迎 來自星星的Elohim)   \n",
       "703    9  11   -2  作者: googolplex (googolplex)   \n",
       "704   62  74  -12  作者: googolplex (googolplex)   \n",
       "705   33   4   29              作者: nobel777 ()   \n",
       "\n",
       "                                   標題                        時間  \n",
       "2                 標題: [公告] 多篇無關推噓文 水桶  Wed Oct  7 17:49:04 2020  \n",
       "3    標題: [公告] 數條板規修改草案於gossippicket討論  Sun Oct  4 21:16:27 2020  \n",
       "4              標題: [公告]十月份置底閒聊區        Wed Oct  7 16:57:26 2020  \n",
       "5      標題: [協尋] 台北市內湖區樂群二路265巷路口 行車紀錄  Sun Oct  4 18:42:55 2020  \n",
       "6              標題: [協尋] 桃園交通事故，請大家幫幫忙  Mon Oct  5 18:38:57 2020  \n",
       "..                                ...                       ...  \n",
       "701               標題: [爆卦] 支那垃圾賤畜集體高潮  Fri Oct  2 14:10:22 2020  \n",
       "702           標題: [爆卦] 日本藝人結婚對東京股市的衝擊  Fri Oct  2 14:50:45 2020  \n",
       "703     標題: [爆卦] 最新美國6大搖擺州民調 川普選情持續穩定  Wed Oct  7 16:57:38 2020  \n",
       "704     標題: [爆卦] 最新防疫成功國家排名 中國第一 台灣榜外  Wed Oct  7 17:40:29 2020  \n",
       "705             標題: [爆卦] 王柏融棒打日本澤村賞名投  Wed Oct  7 19:19:13 2020  \n",
       "\n",
       "[702 rows x 6 columns]"
      ]
     },
     "execution_count": 61,
     "metadata": {},
     "output_type": "execute_result"
    }
   ],
   "source": [
    "df[\n",
    "    pd.to_datetime(df['時間']) > datetime(2020, 10, 2)\n",
    "]"
   ]
  },
  {
   "cell_type": "code",
   "execution_count": 62,
   "metadata": {},
   "outputs": [
    {
     "data": {
      "text/html": [
       "<div>\n",
       "<style scoped>\n",
       "    .dataframe tbody tr th:only-of-type {\n",
       "        vertical-align: middle;\n",
       "    }\n",
       "\n",
       "    .dataframe tbody tr th {\n",
       "        vertical-align: top;\n",
       "    }\n",
       "\n",
       "    .dataframe thead th {\n",
       "        text-align: right;\n",
       "    }\n",
       "</style>\n",
       "<table border=\"1\" class=\"dataframe\">\n",
       "  <thead>\n",
       "    <tr style=\"text-align: right;\">\n",
       "      <th></th>\n",
       "      <th>推</th>\n",
       "      <th>噓</th>\n",
       "      <th>分數</th>\n",
       "      <th>作者</th>\n",
       "      <th>標題</th>\n",
       "      <th>時間</th>\n",
       "      <th>dt_parsed</th>\n",
       "    </tr>\n",
       "  </thead>\n",
       "  <tbody>\n",
       "    <tr>\n",
       "      <th>0</th>\n",
       "      <td>990</td>\n",
       "      <td>66</td>\n",
       "      <td>924</td>\n",
       "      <td>作者: ubcs (覺★青年超冒險蓋)</td>\n",
       "      <td>標題: [公告] 中秋連假線上烤肉兼置底聯誼閒聊區</td>\n",
       "      <td>Wed Sep 30 23:45:49 2020</td>\n",
       "      <td>2020-09-30 23:45:49</td>\n",
       "    </tr>\n",
       "    <tr>\n",
       "      <th>1</th>\n",
       "      <td>0</td>\n",
       "      <td>0</td>\n",
       "      <td>0</td>\n",
       "      <td>作者: seabox (盒盒)</td>\n",
       "      <td>標題: [公告] 八卦板板規(2020.07.21)</td>\n",
       "      <td>Tue Jul 21 00:00:04 2020</td>\n",
       "      <td>2020-07-21 00:00:04</td>\n",
       "    </tr>\n",
       "    <tr>\n",
       "      <th>2</th>\n",
       "      <td>20</td>\n",
       "      <td>7</td>\n",
       "      <td>13</td>\n",
       "      <td>作者: ubcs (覺★青年超冒險蓋)</td>\n",
       "      <td>標題: [公告] 多篇無關推噓文 水桶</td>\n",
       "      <td>Wed Oct  7 17:49:04 2020</td>\n",
       "      <td>2020-10-07 17:49:04</td>\n",
       "    </tr>\n",
       "    <tr>\n",
       "      <th>3</th>\n",
       "      <td>19</td>\n",
       "      <td>5</td>\n",
       "      <td>14</td>\n",
       "      <td>作者: seabox (盒盒)</td>\n",
       "      <td>標題: [公告] 數條板規修改草案於gossippicket討論</td>\n",
       "      <td>Sun Oct  4 21:16:27 2020</td>\n",
       "      <td>2020-10-04 21:16:27</td>\n",
       "    </tr>\n",
       "    <tr>\n",
       "      <th>4</th>\n",
       "      <td>3</td>\n",
       "      <td>11</td>\n",
       "      <td>-8</td>\n",
       "      <td>作者: ubcs (覺★青年超冒險蓋)</td>\n",
       "      <td>標題: [公告]十月份置底閒聊區</td>\n",
       "      <td>Wed Oct  7 16:57:26 2020</td>\n",
       "      <td>2020-10-07 16:57:26</td>\n",
       "    </tr>\n",
       "    <tr>\n",
       "      <th>...</th>\n",
       "      <td>...</td>\n",
       "      <td>...</td>\n",
       "      <td>...</td>\n",
       "      <td>...</td>\n",
       "      <td>...</td>\n",
       "      <td>...</td>\n",
       "      <td>...</td>\n",
       "    </tr>\n",
       "    <tr>\n",
       "      <th>701</th>\n",
       "      <td>61</td>\n",
       "      <td>26</td>\n",
       "      <td>35</td>\n",
       "      <td>作者: yank0612 (魯宅)</td>\n",
       "      <td>標題: [爆卦] 支那垃圾賤畜集體高潮</td>\n",
       "      <td>Fri Oct  2 14:10:22 2020</td>\n",
       "      <td>2020-10-02 14:10:22</td>\n",
       "    </tr>\n",
       "    <tr>\n",
       "      <th>702</th>\n",
       "      <td>7</td>\n",
       "      <td>2</td>\n",
       "      <td>5</td>\n",
       "      <td>作者: shoga (歡迎 來自星星的Elohim)</td>\n",
       "      <td>標題: [爆卦] 日本藝人結婚對東京股市的衝擊</td>\n",
       "      <td>Fri Oct  2 14:50:45 2020</td>\n",
       "      <td>2020-10-02 14:50:45</td>\n",
       "    </tr>\n",
       "    <tr>\n",
       "      <th>703</th>\n",
       "      <td>9</td>\n",
       "      <td>11</td>\n",
       "      <td>-2</td>\n",
       "      <td>作者: googolplex (googolplex)</td>\n",
       "      <td>標題: [爆卦] 最新美國6大搖擺州民調 川普選情持續穩定</td>\n",
       "      <td>Wed Oct  7 16:57:38 2020</td>\n",
       "      <td>2020-10-07 16:57:38</td>\n",
       "    </tr>\n",
       "    <tr>\n",
       "      <th>704</th>\n",
       "      <td>62</td>\n",
       "      <td>74</td>\n",
       "      <td>-12</td>\n",
       "      <td>作者: googolplex (googolplex)</td>\n",
       "      <td>標題: [爆卦] 最新防疫成功國家排名 中國第一 台灣榜外</td>\n",
       "      <td>Wed Oct  7 17:40:29 2020</td>\n",
       "      <td>2020-10-07 17:40:29</td>\n",
       "    </tr>\n",
       "    <tr>\n",
       "      <th>705</th>\n",
       "      <td>33</td>\n",
       "      <td>4</td>\n",
       "      <td>29</td>\n",
       "      <td>作者: nobel777 ()</td>\n",
       "      <td>標題: [爆卦] 王柏融棒打日本澤村賞名投</td>\n",
       "      <td>Wed Oct  7 19:19:13 2020</td>\n",
       "      <td>2020-10-07 19:19:13</td>\n",
       "    </tr>\n",
       "  </tbody>\n",
       "</table>\n",
       "<p>706 rows × 7 columns</p>\n",
       "</div>"
      ],
      "text/plain": [
       "       推   噓   分數                           作者  \\\n",
       "0    990  66  924          作者: ubcs (覺★青年超冒險蓋)   \n",
       "1      0   0    0              作者: seabox (盒盒)   \n",
       "2     20   7   13          作者: ubcs (覺★青年超冒險蓋)   \n",
       "3     19   5   14              作者: seabox (盒盒)   \n",
       "4      3  11   -8          作者: ubcs (覺★青年超冒險蓋)   \n",
       "..   ...  ..  ...                          ...   \n",
       "701   61  26   35            作者: yank0612 (魯宅)   \n",
       "702    7   2    5   作者: shoga (歡迎 來自星星的Elohim)   \n",
       "703    9  11   -2  作者: googolplex (googolplex)   \n",
       "704   62  74  -12  作者: googolplex (googolplex)   \n",
       "705   33   4   29              作者: nobel777 ()   \n",
       "\n",
       "                                   標題                        時間  \\\n",
       "0           標題: [公告] 中秋連假線上烤肉兼置底聯誼閒聊區  Wed Sep 30 23:45:49 2020   \n",
       "1          標題: [公告] 八卦板板規(2020.07.21)  Tue Jul 21 00:00:04 2020   \n",
       "2                 標題: [公告] 多篇無關推噓文 水桶  Wed Oct  7 17:49:04 2020   \n",
       "3    標題: [公告] 數條板規修改草案於gossippicket討論  Sun Oct  4 21:16:27 2020   \n",
       "4              標題: [公告]十月份置底閒聊區        Wed Oct  7 16:57:26 2020   \n",
       "..                                ...                       ...   \n",
       "701               標題: [爆卦] 支那垃圾賤畜集體高潮  Fri Oct  2 14:10:22 2020   \n",
       "702           標題: [爆卦] 日本藝人結婚對東京股市的衝擊  Fri Oct  2 14:50:45 2020   \n",
       "703     標題: [爆卦] 最新美國6大搖擺州民調 川普選情持續穩定  Wed Oct  7 16:57:38 2020   \n",
       "704     標題: [爆卦] 最新防疫成功國家排名 中國第一 台灣榜外  Wed Oct  7 17:40:29 2020   \n",
       "705             標題: [爆卦] 王柏融棒打日本澤村賞名投  Wed Oct  7 19:19:13 2020   \n",
       "\n",
       "              dt_parsed  \n",
       "0   2020-09-30 23:45:49  \n",
       "1   2020-07-21 00:00:04  \n",
       "2   2020-10-07 17:49:04  \n",
       "3   2020-10-04 21:16:27  \n",
       "4   2020-10-07 16:57:26  \n",
       "..                  ...  \n",
       "701 2020-10-02 14:10:22  \n",
       "702 2020-10-02 14:50:45  \n",
       "703 2020-10-07 16:57:38  \n",
       "704 2020-10-07 17:40:29  \n",
       "705 2020-10-07 19:19:13  \n",
       "\n",
       "[706 rows x 7 columns]"
      ]
     },
     "execution_count": 62,
     "metadata": {},
     "output_type": "execute_result"
    }
   ],
   "source": [
    "df['dt_parsed'] = pd.to_datetime(df['時間'])\n",
    "\n",
    "df"
   ]
  },
  {
   "cell_type": "code",
   "execution_count": 63,
   "metadata": {},
   "outputs": [
    {
     "data": {
      "text/plain": [
       "0      990\n",
       "1        0\n",
       "2       20\n",
       "3       19\n",
       "4        3\n",
       "      ... \n",
       "701     61\n",
       "702      7\n",
       "703      9\n",
       "704     62\n",
       "705     33\n",
       "Name: 推, Length: 706, dtype: int64"
      ]
     },
     "execution_count": 63,
     "metadata": {},
     "output_type": "execute_result"
    }
   ],
   "source": [
    "# 不確定型態是一致, 可以轉換成一致 (int, float, str 都可以)\n",
    "df['推'].astype(int)"
   ]
  }
 ],
 "metadata": {
  "kernelspec": {
   "display_name": "demo-devcontainer-main-3bA0MOTb",
   "language": "python",
   "name": "python3"
  },
  "language_info": {
   "codemirror_mode": {
    "name": "ipython",
    "version": 3
   },
   "file_extension": ".py",
   "mimetype": "text/x-python",
   "name": "python",
   "nbconvert_exporter": "python",
   "pygments_lexer": "ipython3",
   "version": "3.12.4"
  }
 },
 "nbformat": 4,
 "nbformat_minor": 2
}
